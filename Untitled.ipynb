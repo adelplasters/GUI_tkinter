{
 "cells": [
  {
   "cell_type": "code",
   "execution_count": 2,
   "id": "a803a793",
   "metadata": {},
   "outputs": [
    {
     "name": "stdout",
     "output_type": "stream",
     "text": [
      "Collecting package metadata (current_repodata.json): done\n",
      "Solving environment: done\n",
      "\n",
      "# All requested packages already installed.\n",
      "\n",
      "\n",
      "Note: you may need to restart the kernel to use updated packages.\n"
     ]
    }
   ],
   "source": [
    "conda install -c anaconda pyqt"
   ]
  },
  {
   "cell_type": "code",
   "execution_count": 487,
   "id": "d0795862",
   "metadata": {
    "scrolled": true
   },
   "outputs": [
    {
     "name": "stdout",
     "output_type": "stream",
     "text": [
      "Collecting package metadata (current_repodata.json): | ^C\n",
      "- \n",
      "Note: you may need to restart the kernel to use updated packages.\n"
     ]
    }
   ],
   "source": [
    "conda install pyqtgraph"
   ]
  },
  {
   "cell_type": "code",
   "execution_count": 47,
   "id": "506f573c",
   "metadata": {},
   "outputs": [],
   "source": [
    "import PyQt5 as Py5\n",
    "import numpy as NP \n",
    "import scipy as SP \n",
    "import sys\n",
    "from PyQt5 import QtWidgets\n",
    "from PyQt5.QtWidgets import QDialog, QApplication, QWidget\n",
    "from PyQt5 import QtGui \n",
    "from PyQt5.QtGui import QColor as Qc\n"
   ]
  },
  {
   "cell_type": "code",
   "execution_count": 48,
   "id": "c21be3c3",
   "metadata": {},
   "outputs": [],
   "source": [
    "import tkinter as tk"
   ]
  },
  {
   "cell_type": "code",
   "execution_count": 49,
   "id": "b9062e78",
   "metadata": {},
   "outputs": [],
   "source": [
    "#definisco qua le funzioni che verranno azionate dai bottoni \n",
    "\n",
    "def start_acquisition():\n",
    "    text1 = \"ledd\"\n",
    "    text1_output = tk.Label(window, text = text1, fg = \"red\", background = \"red\")\n",
    "    text1_output.grid(row = 0, column = 2)\n",
    "    text2 =\"Acquisition...\"\n",
    "    text2_output = tk.Label(window, text = text2, fg = \"blue\", background = \"light blue\", font = (\"Microsoft YaHei\", 20))\n",
    "    text2_output.grid(row = 0, column = 3, padx = 200)\n"
   ]
  },
  {
   "cell_type": "code",
   "execution_count": 50,
   "id": "5f124bb6",
   "metadata": {},
   "outputs": [],
   "source": [
    "def stop_acquisition():\n",
    "    text = \"ledd\"\n",
    "    text_output = tk.Label(window, text = text, fg = \"green\", background = \"green\")\n",
    "    text_output.grid(row = 0, column = 2)\n",
    "    text2_output = tk.Label(window, text = \"Acquisition...\", fg = \"light blue\", background = \"light blue\", font = (\"Microsoft YaHei\", 20))\n",
    "    text2_output.grid(row = 0, column = 3, padx = 200)\n",
    "    "
   ]
  },
  {
   "cell_type": "code",
   "execution_count": 51,
   "id": "ea22a5af",
   "metadata": {},
   "outputs": [],
   "source": [
    "window = tk.Tk() #per creare una finestra che contenga tutti i nostri altri elementi, è un widget principale \n",
    "window.geometry(\"600x400\") #larghezza per altezza \n",
    "window.title(\"Section\")\n",
    "window.resizable(False, False) #perchè non possa esserne modificata la dimensione una volta aperto\n",
    "window.configure(background = \"light blue\")\n"
   ]
  },
  {
   "cell_type": "code",
   "execution_count": 52,
   "id": "d13b8372",
   "metadata": {},
   "outputs": [],
   "source": [
    "#aggiungiamo un secondo widget tipo un bottone e lo posizioniamo nella nostra window \n",
    "first_button1 = tk.Button(text= \"Start Acquisition\", command = start_acquisition)\n",
    "first_button1.grid(row=0, column=0, pady=20) #per andare a specificare la sua posizione nel widget genitore \n",
    "#padx è la spaziatura tra cose stampate lungo x\n",
    "#sticky = \"W\", \"S\", \"N\", \"E\" se vogliamo allineare le cose a sx dx ecc --> dabilanciare con padx\n",
    "\n",
    "text = \"ledd\"\n",
    "text_output = tk.Label(window, text = text, fg = \"green\", background = \"green\")\n",
    "text_output.grid(row = 0, column = 2)\n",
    "\n",
    "second_button2 = tk.Button( text = 'Finish Acquisition', command = stop_acquisition)\n",
    "second_button2.grid(row = 1, column = 0, pady = 280)\n",
    "\n"
   ]
  },
  {
   "cell_type": "code",
   "execution_count": 53,
   "id": "bd913504",
   "metadata": {},
   "outputs": [],
   "source": [
    "\n",
    "    window.mainloop() #per far partire l'immagine "
   ]
  },
  {
   "cell_type": "code",
   "execution_count": null,
   "id": "2fff4f7c",
   "metadata": {},
   "outputs": [],
   "source": []
  },
  {
   "cell_type": "code",
   "execution_count": null,
   "id": "b065f6a1",
   "metadata": {},
   "outputs": [],
   "source": []
  },
  {
   "cell_type": "code",
   "execution_count": null,
   "id": "094ad9fb",
   "metadata": {},
   "outputs": [],
   "source": []
  }
 ],
 "metadata": {
  "kernelspec": {
   "display_name": "Python 3 (ipykernel)",
   "language": "python",
   "name": "python3"
  },
  "language_info": {
   "codemirror_mode": {
    "name": "ipython",
    "version": 3
   },
   "file_extension": ".py",
   "mimetype": "text/x-python",
   "name": "python",
   "nbconvert_exporter": "python",
   "pygments_lexer": "ipython3",
   "version": "3.9.7"
  }
 },
 "nbformat": 4,
 "nbformat_minor": 5
}
