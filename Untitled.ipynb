{
 "cells": [
  {
   "cell_type": "code",
   "execution_count": 1,
   "id": "a803a793",
   "metadata": {
    "pycharm": {
     "name": "#%%\n"
    }
   },
   "outputs": [],
   "source": [
    "#conda install -c anaconda pyqt"
   ]
  },
  {
   "cell_type": "code",
   "execution_count": 2,
   "id": "d0795862",
   "metadata": {
    "pycharm": {
     "name": "#%%\n"
    },
    "scrolled": false
   },
   "outputs": [],
   "source": [
    "#conda install pyqtgraph"
   ]
  },
  {
   "cell_type": "code",
   "execution_count": 3,
   "id": "506f573c",
   "metadata": {
    "pycharm": {
     "is_executing": true,
     "name": "#%%\n"
    }
   },
   "outputs": [],
   "source": [
    "import PyQt5 as Py5\n",
    "import numpy as NP \n",
    "import scipy as SP \n",
    "import sys\n",
    "from PyQt5 import QtWidgets\n",
    "from PyQt5.QtWidgets import QDialog, QApplication, QWidget\n",
    "from PyQt5 import QtGui \n",
    "from PyQt5.QtGui import QColor as Qc\n"
   ]
  },
  {
   "cell_type": "code",
   "execution_count": 4,
   "id": "c21be3c3",
   "metadata": {
    "pycharm": {
     "is_executing": true,
     "name": "#%%\n"
    }
   },
   "outputs": [],
   "source": [
    "import tkinter as tk\n",
    "from PIL import Image, ImageTk\n",
    "import time\n",
    "\n",
    "\n",
    "\n"
   ]
  },
  {
   "cell_type": "code",
   "execution_count": 5,
   "id": "6039ad7b",
   "metadata": {},
   "outputs": [],
   "source": [
    "running = False\n",
    "ora = 0\n",
    "minuto = 0\n",
    "secondo = 0"
   ]
  },
  {
   "cell_type": "code",
   "execution_count": 6,
   "id": "bc395a43",
   "metadata": {},
   "outputs": [],
   "source": [
    "def clock():  \n",
    "   \n",
    "    if running == True:\n",
    "        global ora, minuto, secondo\n",
    "        secondo =+ 1 \n",
    "    \n",
    "        if secondo == 60:\n",
    "            minuto += 1 \n",
    "            secondo = 0 \n",
    "        \n",
    "        if minuto == 60:\n",
    "            ora += 1 \n",
    "            minuto = 0 \n",
    "        \n",
    "    \n",
    "    ora_stringa = f'{ora}' if ora > 9 else f'0{ora}'\n",
    "     \n",
    "    minuto_stringa = f'{minuto}' if minuto > 9 else f'0{minuto}'\n",
    "     \n",
    "    secondo_stringa = f'{secondo}' if secondo > 9 else f'0{secondo}'\n",
    "    \n",
    "    cronometro.config(text = ora_stringa + \":\" + minuto_stringa + \":\" + secondo_stringa)\n",
    "    \n",
    "    global update_time\n",
    "    \n",
    "    update_time = cronometro.after(100, clock)"
   ]
  },
  {
   "cell_type": "code",
   "execution_count": 7,
   "id": "b9062e78",
   "metadata": {
    "pycharm": {
     "name": "#%%\n"
    }
   },
   "outputs": [],
   "source": [
    "#definisco qua le funzioni che verranno azionate dai bottoni \n",
    "\n",
    "\n",
    "def start_acquisition():\n",
    "    \n",
    "    global running\n",
    "    if not running:\n",
    "        clock()\n",
    "        running = True \n",
    "   \n",
    "    w.destroy()\n",
    "   \n",
    "    \n",
    "    w2 = tk.Canvas(window, bd =0, bg = \"#666699\", height= 80, width = 80)\n",
    "    w2.grid(row = 20, columns = 7, padx = 180, sticky = \"W\")\n",
    "    oval2 = w2.create_oval(25,48,55,78, fill = \"red\")\n",
    "    led2 = w2.create_text(40, 35, text = \"LED\", fill= \"#660033\", font = ('Orator Std', 20, 'bold'))\n",
    "    \n",
    "    acquisition = tk.Label(window, text = \"ACQUISITION...\", font = (\"Orator Std\", 40, 'bold'), fg = \"#660033\", bg = \"#666699\")\n",
    "    acquisition.grid(row = 40, columns =8, pady = 50, padx = 180, sticky = \"w\")\n",
    "\n",
    "    \n",
    "\n"
   ]
  },
  {
   "cell_type": "code",
   "execution_count": 8,
   "id": "5f124bb6",
   "metadata": {
    "pycharm": {
     "name": "#%%\n"
    }
   },
   "outputs": [],
   "source": [
    "def stop_acquisition():\n",
    "\n",
    "    w3 = tk.Canvas(window, bd =0, bg = \"#666699\", height= 80, width = 80)\n",
    "    w3.grid(row = 20, columns = 7, padx = 180, sticky = \"W\")\n",
    "    oval3 = w3.create_oval(25,48,55,78, fill = \"light green\")\n",
    "    led3 = w3.create_text(40, 35, text = \"LED\", fill= \"#660033\", font = ('Orator Std', 20, 'bold'))\n",
    "    \n",
    "    acquisition = tk.Label(window, text = \"ACQUISITION...\", font = (\"Orator Std\", 40, 'bold'), fg = \"#666699\", bg = \"#666699\")\n",
    "    acquisition.grid(row = 40, columns =8, pady = 50, padx = 180, sticky = \"W\")\n",
    "\n",
    "\n",
    "    "
   ]
  },
  {
   "cell_type": "code",
   "execution_count": 9,
   "id": "ea22a5af",
   "metadata": {
    "pycharm": {
     "name": "#%%\n"
    }
   },
   "outputs": [],
   "source": [
    "window = tk.Tk() #per creare una finestra che contenga tutti i nostri altri elementi, è un widget principale \n",
    "window.geometry(\"600x600\") #larghezza per altezza \n",
    "window.title(\"Section\")\n",
    "window.resizable(False, False) #perchè non possa esserne modificata la dimensione una volta aperto\n",
    "window.configure(background = \"#666699\")\n"
   ]
  },
  {
   "cell_type": "code",
   "execution_count": 10,
   "id": "a4916a08",
   "metadata": {},
   "outputs": [],
   "source": [
    "w = tk.Canvas(window, bd =0, bg = \"#666699\", height= 80, width = 80)\n",
    "w.grid(row = 20, columns = 7, padx = 180, sticky = \"W\")\n",
    "oval = w.create_oval(25,48,55,78, fill = \"light green\")\n",
    "led = w.create_text(40, 35, text = \"LED\", fill= \"#660033\", font = ('olivier', 20, 'bold'))\n",
    "\n",
    "acquisition = tk.Label(window, text = \"ACQUISITION...\", font = (\"Orator Std\", 40, 'bold'), fg = \"#666699\", bg = \"#666699\")\n",
    "acquisition.grid(row = 40, columns =8, pady = 50, padx = 180, sticky = \"W\")\n",
    "\n",
    "\n",
    "\n",
    "\n",
    "\n"
   ]
  },
  {
   "cell_type": "code",
   "execution_count": 11,
   "id": "71efb2ac",
   "metadata": {},
   "outputs": [],
   "source": [
    "cronometro = tk.Label(window, text = \"00:00:00\", bg = \"black\", fg = \"#ffccff\", font = (\"Helvetica\", 30, 'bold'))\n",
    "cronometro.grid(row = 20, columns = 400, padx = 460, sticky = \"NE\", pady = 20)\n"
   ]
  },
  {
   "cell_type": "code",
   "execution_count": 12,
   "id": "59efd159",
   "metadata": {},
   "outputs": [],
   "source": [
    "signal_case1 = tk.Canvas(window, bg = \"#666699\", height = 230, width = 186, bd = 0)\n",
    "signal_case1.grid(row = 42, columns = 7, sticky = \"W\", padx = 16)\n",
    "battuta = signal_case1.create_text(93,32, text = \"BATTUTA\", fill = \"#660033\", font = ('Orator Std', 30, 'bold'))\n",
    "b = 0\n",
    "punteggio_b = signal_case1.create_text(93, 150, text = b, fill = \"#ffccff\", font = ('Helvetica', 90, 'bold'))\n",
    "\n",
    "signal_case2 = tk.Canvas(window, bd = 0, bg = \"#666699\", height = 230, width = 186)\n",
    "signal_case2.grid(row = 42, columns = 8, sticky = \"W\", padx = 202)\n",
    "dritto = signal_case2.create_text(93,32, text = \"DRITTO\", fill = \"#660033\", font = ('Orator Std', 30, 'bold'))\n",
    "d = 0\n",
    "punteggio_d = signal_case2.create_text(93, 150, text = d, fill = \"#ffccff\", font = ('Helvetica', 90, 'bold'))\n",
    "\n",
    "signal_case3 = tk.Canvas(window, bd = 0, bg = \"#666699\", height = 230, width = 186)\n",
    "signal_case3.grid(row = 42, columns = 9, sticky = \"W\", padx = 388)\n",
    "rovescio = signal_case3.create_text(93,32, text = \"ROVESCIO\", fill = \"#660033\", font = ('Orator Std', 30, 'bold'))\n",
    "r = 0\n",
    "punteggio_r = signal_case3.create_text(93, 150, text = r, fill = \"#ffccff\", font = ('Helvetica', 90, 'bold'))\n",
    "\n",
    "\n"
   ]
  },
  {
   "cell_type": "code",
   "execution_count": 13,
   "id": "d13b8372",
   "metadata": {
    "pycharm": {
     "name": "#%%\n"
    }
   },
   "outputs": [],
   "source": [
    "#aggiungiamo un secondo widget tipo un bottone e lo posizioniamo nella nostra window \n",
    "first_button1 = tk.Button(text = \"START\", command = start_acquisition, bd= 0, font = (\"Orator Std\", 30, 'bold'), fg = \"#660033\")\n",
    "first_button1.grid(row = 20, column =0, padx = 20, pady = 20, sticky = \"NW\") #per andare a specificare la sua posizione nel widget genitore \n",
    "#padx è la spaziatura tra cose stampate lungo x\n",
    "#sticky = \"W\", \"S\", \"N\", \"E\" se vogliamo allineare le cose a sx dx ecc --> dabilanciare con padx\n",
    "\n",
    "\n",
    "second_button2 = tk.Button( text = \" STOP \", command = stop_acquisition, bd = 0, font = (\"Orator Std\", 30, 'bold'), fg = \"#660033\")\n",
    "second_button2.grid(row = 21, column = 0, padx = 20, pady = 5, sticky= \"NW\")\n",
    "\n"
   ]
  },
  {
   "cell_type": "code",
   "execution_count": null,
   "id": "bd913504",
   "metadata": {
    "pycharm": {
     "name": "#%%\n"
    }
   },
   "outputs": [],
   "source": [
    "\n",
    "window.mainloop() #per far partire l'immagine "
   ]
  },
  {
   "cell_type": "code",
   "execution_count": null,
   "id": "2fff4f7c",
   "metadata": {
    "pycharm": {
     "name": "#%%\n"
    }
   },
   "outputs": [],
   "source": []
  },
  {
   "cell_type": "code",
   "execution_count": null,
   "id": "b065f6a1",
   "metadata": {
    "pycharm": {
     "name": "#%%\n"
    }
   },
   "outputs": [],
   "source": []
  },
  {
   "cell_type": "code",
   "execution_count": null,
   "id": "094ad9fb",
   "metadata": {
    "pycharm": {
     "name": "#%%\n"
    }
   },
   "outputs": [],
   "source": []
  }
 ],
 "metadata": {
  "kernelspec": {
   "display_name": "Python 3 (ipykernel)",
   "language": "python",
   "name": "python3"
  },
  "language_info": {
   "codemirror_mode": {
    "name": "ipython",
    "version": 3
   },
   "file_extension": ".py",
   "mimetype": "text/x-python",
   "name": "python",
   "nbconvert_exporter": "python",
   "pygments_lexer": "ipython3",
   "version": "3.9.7"
  }
 },
 "nbformat": 4,
 "nbformat_minor": 5
}
