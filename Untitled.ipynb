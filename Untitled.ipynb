{
 "cells": [
  {
   "cell_type": "code",
   "execution_count": 1,
   "id": "a803a793",
   "metadata": {
    "pycharm": {
     "name": "#%%\n"
    }
   },
   "outputs": [],
   "source": [
    "#conda install -c anaconda pyqt"
   ]
  },
  {
   "cell_type": "code",
   "execution_count": 2,
   "id": "d0795862",
   "metadata": {
    "pycharm": {
     "name": "#%%\n"
    },
    "scrolled": false
   },
   "outputs": [],
   "source": [
    "#conda install pyqtgraph"
   ]
  },
  {
   "cell_type": "code",
   "execution_count": 3,
   "id": "506f573c",
   "metadata": {
    "pycharm": {
     "is_executing": true,
     "name": "#%%\n"
    }
   },
   "outputs": [],
   "source": [
    "import PyQt5 as Py5\n",
    "import numpy as NP \n",
    "import scipy as SP \n",
    "import sys\n",
    "from PyQt5 import QtWidgets\n",
    "from PyQt5.QtWidgets import QDialog, QApplication, QWidget\n",
    "from PyQt5 import QtGui \n",
    "from PyQt5.QtGui import QColor as Qc\n"
   ]
  },
  {
   "cell_type": "code",
   "execution_count": 4,
   "id": "c21be3c3",
   "metadata": {
    "pycharm": {
     "is_executing": true,
     "name": "#%%\n"
    }
   },
   "outputs": [],
   "source": [
    "import tkinter as tk\n",
    "from PIL import Image, ImageTk"
   ]
  },
  {
   "cell_type": "code",
   "execution_count": 5,
   "id": "b9062e78",
   "metadata": {
    "pycharm": {
     "name": "#%%\n"
    }
   },
   "outputs": [],
   "source": [
    "#definisco qua le funzioni che verranno azionate dai bottoni \n",
    "\n",
    "def start_acquisition():\n",
    "    #text1 = \"ledd\"\n",
    "    #text1_output = tk.Label(window, text = text1, fg = \"red\", background = \"red\")\n",
    "   # text1_output.grid(row = 0, column = 2)\n",
    "    #text2 =\"Acquisition...\"\n",
    "    #text2_output = tk.Label(window, text = text2, fg = \"blue\", background = \"light blue\", font = (\"Calibri light\", 20))\n",
    "    #text2_output.grid(pad)\n",
    "    w.destroy()\n",
    "    \n",
    "    w2 = tk.Canvas(window, bd =0, bg = \"#d8bfd8\", height= 80, width = 80)\n",
    "    w2.grid(row = 20, columns = 7, padx = 180, sticky = \"W\")\n",
    "    oval2 = w2.create_oval(25,48,55,78, fill = \"red\")\n",
    "    led2 = w2.create_text(40, 25, text = \"LED\", fill= \"black\", font = ('olivier', 20, 'bold'))\n",
    "    \n",
    "    acquisition = tk.Label(window, text = \"ACQUISITION...\", font = (\"Helvetica\", 30), fg = \"red\", bg = \"#d8bfd8\")\n",
    "    acquisition.grid(row = 40, columns =8, pady = 100, padx = 200)\n",
    "\n",
    "\n",
    "    \n",
    "\n"
   ]
  },
  {
   "cell_type": "code",
   "execution_count": 6,
   "id": "5f124bb6",
   "metadata": {
    "pycharm": {
     "name": "#%%\n"
    }
   },
   "outputs": [],
   "source": [
    "def stop_acquisition():\n",
    "  #  text = \"ledd\"\n",
    "  #  text_output = tk.Label(window, text = text, fg = \"green\", background = \"green\")\n",
    "  #  text_output.grid(row = 0, column = 2)\n",
    "    \n",
    "    w3 = tk.Canvas(window, bd =0, bg = \"#d8bfd8\", height= 80, width = 80)\n",
    "    w3.grid(row = 20, columns = 7, padx = 180, sticky = \"W\")\n",
    "    oval3 = w3.create_oval(25,48,55,78, fill = \"light green\")\n",
    "    led3 = w3.create_text(40, 25, text = \"LED\", fill= \"black\", font = ('olivier', 20, 'bold'))\n",
    "    \n",
    "    acquisition = tk.Label(window, text = \"ACQUISITION...\", font = (\"Helvetica\", 30), fg = \"#d8bfd8\", bg = \"#d8bfd8\")\n",
    "    acquisition.grid(row = 40, columns =8, pady = 100, padx = 200)\n",
    "\n",
    "\n",
    "    "
   ]
  },
  {
   "cell_type": "code",
   "execution_count": 7,
   "id": "ea22a5af",
   "metadata": {
    "pycharm": {
     "name": "#%%\n"
    }
   },
   "outputs": [],
   "source": [
    "window = tk.Tk() #per creare una finestra che contenga tutti i nostri altri elementi, è un widget principale \n",
    "window.geometry(\"600x600\") #larghezza per altezza \n",
    "window.title(\"Section\")\n",
    "window.resizable(False, False) #perchè non possa esserne modificata la dimensione una volta aperto\n",
    "window.configure(background = \"#d8bfd8\")\n"
   ]
  },
  {
   "cell_type": "code",
   "execution_count": 8,
   "id": "a4916a08",
   "metadata": {},
   "outputs": [],
   "source": [
    "w = tk.Canvas(window, bd =0, bg = \"#d8bfd8\", height= 80, width = 80)\n",
    "w.grid(row = 20, columns = 7, padx = 180)\n",
    "oval = w.create_oval(25,48,55,78, fill = \"light green\")\n",
    "led = w.create_text(40, 25, text = \"LED\", fill= \"black\", font = ('olivier', 20, 'bold'))\n",
    "\n"
   ]
  },
  {
   "cell_type": "code",
   "execution_count": 9,
   "id": "59efd159",
   "metadata": {},
   "outputs": [],
   "source": [
    "signal_case = tk.Canvas(window, bd = 0, bg = \"#d8bfd8\", height = 160, width = 560)\n",
    "signal_case.grid(row = 45, columns = 8)"
   ]
  },
  {
   "cell_type": "code",
   "execution_count": 10,
   "id": "d13b8372",
   "metadata": {
    "pycharm": {
     "name": "#%%\n"
    }
   },
   "outputs": [],
   "source": [
    "#aggiungiamo un secondo widget tipo un bottone e lo posizioniamo nella nostra window \n",
    "first_button1 = tk.Button(text= \"Start Acquisition\", command = start_acquisition, bd= 0)\n",
    "first_button1.grid(row = 20, column =0, padx = 20, sticky = \"W\") #per andare a specificare la sua posizione nel widget genitore \n",
    "#padx è la spaziatura tra cose stampate lungo x\n",
    "#sticky = \"W\", \"S\", \"N\", \"E\" se vogliamo allineare le cose a sx dx ecc --> dabilanciare con padx\n",
    "\n",
    "#text = \"ledd\"\n",
    "#text_output = tk.Label(window, text = text, fg = \"green\", background = \"green\")\n",
    "#text_output.grid(row = 0, column = 2)\n",
    "\n",
    "second_button2 = tk.Button( text = 'Stop Acquisition', command = stop_acquisition, bd=0)\n",
    "second_button2.grid(row = 21, column = 0, padx = 20, pady = 5, sticky= \"NW\")\n",
    "\n"
   ]
  },
  {
   "cell_type": "code",
   "execution_count": 11,
   "id": "bd913504",
   "metadata": {
    "pycharm": {
     "name": "#%%\n"
    }
   },
   "outputs": [],
   "source": [
    "\n",
    "    window.mainloop() #per far partire l'immagine "
   ]
  },
  {
   "cell_type": "code",
   "execution_count": null,
   "id": "2fff4f7c",
   "metadata": {
    "pycharm": {
     "name": "#%%\n"
    }
   },
   "outputs": [],
   "source": []
  },
  {
   "cell_type": "code",
   "execution_count": null,
   "id": "b065f6a1",
   "metadata": {
    "pycharm": {
     "name": "#%%\n"
    }
   },
   "outputs": [],
   "source": []
  },
  {
   "cell_type": "code",
   "execution_count": null,
   "id": "094ad9fb",
   "metadata": {
    "pycharm": {
     "name": "#%%\n"
    }
   },
   "outputs": [],
   "source": []
  }
 ],
 "metadata": {
  "kernelspec": {
   "display_name": "Python 3 (ipykernel)",
   "language": "python",
   "name": "python3"
  },
  "language_info": {
   "codemirror_mode": {
    "name": "ipython",
    "version": 3
   },
   "file_extension": ".py",
   "mimetype": "text/x-python",
   "name": "python",
   "nbconvert_exporter": "python",
   "pygments_lexer": "ipython3",
   "version": "3.9.7"
  }
 },
 "nbformat": 4,
 "nbformat_minor": 5
}
