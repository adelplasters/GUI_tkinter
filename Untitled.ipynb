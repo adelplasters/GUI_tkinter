{
 "cells": [
  {
   "cell_type": "code",
   "execution_count": 1,
   "id": "a803a793",
   "metadata": {
    "pycharm": {
     "name": "#%%\n"
    }
   },
   "outputs": [],
   "source": [
    "#conda install -c anaconda pyqt"
   ]
  },
  {
   "cell_type": "code",
   "execution_count": 2,
   "id": "d0795862",
   "metadata": {
    "pycharm": {
     "name": "#%%\n"
    },
    "scrolled": false
   },
   "outputs": [],
   "source": [
    "#conda install pyqtgraph"
   ]
  },
  {
   "cell_type": "code",
   "execution_count": 3,
   "id": "506f573c",
   "metadata": {
    "pycharm": {
     "is_executing": true,
     "name": "#%%\n"
    }
   },
   "outputs": [],
   "source": [
    "import PyQt5 as Py5\n",
    "import numpy as NP \n",
    "import scipy as SP \n",
    "import sys\n",
    "from PyQt5 import QtWidgets\n",
    "from PyQt5.QtWidgets import QDialog, QApplication, QWidget\n",
    "from PyQt5 import QtGui \n",
    "from PyQt5.QtGui import QColor as Qc\n"
   ]
  },
  {
   "cell_type": "code",
   "execution_count": 12,
   "id": "c21be3c3",
   "metadata": {
    "pycharm": {
     "is_executing": true,
     "name": "#%%\n"
    }
   },
   "outputs": [
    {
     "ename": "ModuleNotFoundError",
     "evalue": "No module named 'guizero'",
     "output_type": "error",
     "traceback": [
      "\u001b[0;31m---------------------------------------------------------------------------\u001b[0m",
      "\u001b[0;31mModuleNotFoundError\u001b[0m                       Traceback (most recent call last)",
      "\u001b[0;32m/var/folders/m6/4qqfh24j1c1_1hsvry_yt3mh0000gn/T/ipykernel_881/2893425419.py\u001b[0m in \u001b[0;36m<module>\u001b[0;34m\u001b[0m\n\u001b[1;32m      3\u001b[0m \u001b[0;32mimport\u001b[0m \u001b[0mtime\u001b[0m\u001b[0;34m\u001b[0m\u001b[0;34m\u001b[0m\u001b[0m\n\u001b[1;32m      4\u001b[0m \u001b[0;34m\u001b[0m\u001b[0m\n\u001b[0;32m----> 5\u001b[0;31m \u001b[0;32mfrom\u001b[0m \u001b[0mguizero\u001b[0m \u001b[0;32mimport\u001b[0m \u001b[0mPushButton\u001b[0m\u001b[0;34m\u001b[0m\u001b[0;34m\u001b[0m\u001b[0m\n\u001b[0m\u001b[1;32m      6\u001b[0m \u001b[0;34m\u001b[0m\u001b[0m\n",
      "\u001b[0;31mModuleNotFoundError\u001b[0m: No module named 'guizero'"
     ]
    }
   ],
   "source": [
    "import tkinter as tk\n",
    "from PIL import Image, ImageTk\n",
    "import time\n",
    "\n",
    "\n",
    "\n"
   ]
  },
  {
   "cell_type": "code",
   "execution_count": 5,
   "id": "ac633161",
   "metadata": {},
   "outputs": [],
   "source": [
    "global tempo \n",
    "global rodar \n",
    "\n",
    "tempo = \"00:00:00\"\n",
    "rodar = False \n",
    "limitatore = 59\n",
    "\n",
    "        \n",
    "def clock():\n",
    "    \n",
    "    global tempo \n",
    "    global rodar\n",
    "    \n",
    "    if rodar:\n",
    "          temporaria = str(tempo)\n",
    "            h,m,s = map(int, temporaria.split(\":\"))\n",
    "            h= int(h)\n",
    "            m = int(m)\n",
    "            s = int(limitatore)\n",
    "            \n",
    "            if s >= limitatore:\n",
    "                m =+ 1\n",
    "                \n",
    "                s = str(0) + str(s)\n",
    "                  m = str(0) + str(m)\n",
    "                      h = str(0) + str(m)\n",
    "                        \n",
    "                        \n",
    "                temporaria = str(tempo)\n",
    "            \n",
    "        \n",
    "        \n",
    "    timer = tk.Label(window, text = tempo)\n",
    "    timer.grid(row = 20, columns = 400, padx = 400)\n",
    "    \n",
    "\n",
    "    \n",
    "    "
   ]
  },
  {
   "cell_type": "code",
   "execution_count": 6,
   "id": "b9062e78",
   "metadata": {
    "pycharm": {
     "name": "#%%\n"
    }
   },
   "outputs": [],
   "source": [
    "#definisco qua le funzioni che verranno azionate dai bottoni \n",
    "0\n",
    "\n",
    "def start_acquisition():\n",
    "   \n",
    "    w.destroy()\n",
    "    flag = 1\n",
    "    \n",
    "    w2 = tk.Canvas(window, bd =0, bg = \"#d8bfd8\", height= 80, width = 80)\n",
    "    w2.grid(row = 20, columns = 7, padx = 180, sticky = \"W\")\n",
    "    oval2 = w2.create_oval(25,48,55,78, fill = \"red\")\n",
    "    led2 = w2.create_text(40, 25, text = \"LED\", fill= \"black\", font = ('olivier', 20, 'bold'))\n",
    "    \n",
    "    acquisition = tk.Label(window, text = \"ACQUISITION...\", font = (\"Helvetica\", 30), fg = \"red\", bg = \"#d8bfd8\")\n",
    "    acquisition.grid(row = 40, columns =8, pady = 100, padx = 200)\n",
    "    \n",
    "    timer.after(1, clock)\n",
    "\n",
    "\n",
    "    \n",
    "\n"
   ]
  },
  {
   "cell_type": "code",
   "execution_count": 7,
   "id": "5f124bb6",
   "metadata": {
    "pycharm": {
     "name": "#%%\n"
    }
   },
   "outputs": [],
   "source": [
    "def stop_acquisition():\n",
    "\n",
    "    w3 = tk.Canvas(window, bd =0, bg = \"#d8bfd8\", height= 80, width = 80)\n",
    "    w3.grid(row = 20, columns = 7, padx = 180, sticky = \"W\")\n",
    "    oval3 = w3.create_oval(25,48,55,78, fill = \"light green\")\n",
    "    led3 = w3.create_text(40, 25, text = \"LED\", fill= \"black\", font = ('olivier', 20, 'bold'))\n",
    "    \n",
    "    acquisition = tk.Label(window, text = \"ACQUISITION...\", font = (\"Helvetica\", 30), fg = \"#d8bfd8\", bg = \"#d8bfd8\")\n",
    "    acquisition.grid(row = 40, columns =8, pady = 100, padx = 200)\n",
    "\n",
    "\n",
    "    "
   ]
  },
  {
   "cell_type": "code",
   "execution_count": 8,
   "id": "ea22a5af",
   "metadata": {
    "pycharm": {
     "name": "#%%\n"
    }
   },
   "outputs": [],
   "source": [
    "window = tk.Tk() #per creare una finestra che contenga tutti i nostri altri elementi, è un widget principale \n",
    "window.geometry(\"600x600\") #larghezza per altezza \n",
    "window.title(\"Section\")\n",
    "window.resizable(False, False) #perchè non possa esserne modificata la dimensione una volta aperto\n",
    "window.configure(background = \"#d8bfd8\")\n"
   ]
  },
  {
   "cell_type": "code",
   "execution_count": 9,
   "id": "a4916a08",
   "metadata": {},
   "outputs": [],
   "source": [
    "w = tk.Canvas(window, bd =0, bg = \"#d8bfd8\", height= 80, width = 80)\n",
    "w.grid(row = 20, columns = 7, padx = 180)\n",
    "oval = w.create_oval(25,48,55,78, fill = \"light green\")\n",
    "led = w.create_text(40, 25, text = \"LED\", fill= \"black\", font = ('olivier', 20, 'bold'))\n",
    "\n",
    "clock()\n"
   ]
  },
  {
   "cell_type": "code",
   "execution_count": 10,
   "id": "59efd159",
   "metadata": {},
   "outputs": [],
   "source": [
    "signal_case = tk.Canvas(window, bd = 0, bg = \"#d8bfd8\", height = 160, width = 560)\n",
    "signal_case.grid(row = 45, columns = 8)"
   ]
  },
  {
   "cell_type": "code",
   "execution_count": 11,
   "id": "d13b8372",
   "metadata": {
    "pycharm": {
     "name": "#%%\n"
    }
   },
   "outputs": [
    {
     "ename": "NameError",
     "evalue": "name 'PushButton' is not defined",
     "output_type": "error",
     "traceback": [
      "\u001b[0;31m---------------------------------------------------------------------------\u001b[0m",
      "\u001b[0;31mNameError\u001b[0m                                 Traceback (most recent call last)",
      "\u001b[0;32m/var/folders/m6/4qqfh24j1c1_1hsvry_yt3mh0000gn/T/ipykernel_881/999115230.py\u001b[0m in \u001b[0;36m<module>\u001b[0;34m\u001b[0m\n\u001b[1;32m      1\u001b[0m \u001b[0;31m#aggiungiamo un secondo widget tipo un bottone e lo posizioniamo nella nostra window\u001b[0m\u001b[0;34m\u001b[0m\u001b[0;34m\u001b[0m\u001b[0m\n\u001b[0;32m----> 2\u001b[0;31m \u001b[0mfirst_button1\u001b[0m \u001b[0;34m=\u001b[0m \u001b[0mPushButton\u001b[0m\u001b[0;34m(\u001b[0m\u001b[0mtext\u001b[0m\u001b[0;34m=\u001b[0m \u001b[0;34m\"Start Acquisition\"\u001b[0m\u001b[0;34m,\u001b[0m \u001b[0mcommand\u001b[0m \u001b[0;34m=\u001b[0m \u001b[0mstart_acquisition\u001b[0m\u001b[0;34m,\u001b[0m \u001b[0mbd\u001b[0m\u001b[0;34m=\u001b[0m \u001b[0;36m0\u001b[0m\u001b[0;34m)\u001b[0m\u001b[0;34m\u001b[0m\u001b[0;34m\u001b[0m\u001b[0m\n\u001b[0m\u001b[1;32m      3\u001b[0m \u001b[0mfirst_button1\u001b[0m\u001b[0;34m.\u001b[0m\u001b[0mgrid\u001b[0m\u001b[0;34m(\u001b[0m\u001b[0mrow\u001b[0m \u001b[0;34m=\u001b[0m \u001b[0;36m20\u001b[0m\u001b[0;34m,\u001b[0m \u001b[0mcolumn\u001b[0m \u001b[0;34m=\u001b[0m\u001b[0;36m0\u001b[0m\u001b[0;34m,\u001b[0m \u001b[0mpadx\u001b[0m \u001b[0;34m=\u001b[0m \u001b[0;36m20\u001b[0m\u001b[0;34m,\u001b[0m \u001b[0msticky\u001b[0m \u001b[0;34m=\u001b[0m \u001b[0;34m\"W\"\u001b[0m\u001b[0;34m)\u001b[0m \u001b[0;31m#per andare a specificare la sua posizione nel widget genitore\u001b[0m\u001b[0;34m\u001b[0m\u001b[0;34m\u001b[0m\u001b[0m\n\u001b[1;32m      4\u001b[0m \u001b[0;31m#padx è la spaziatura tra cose stampate lungo x\u001b[0m\u001b[0;34m\u001b[0m\u001b[0;34m\u001b[0m\u001b[0m\n\u001b[1;32m      5\u001b[0m \u001b[0;31m#sticky = \"W\", \"S\", \"N\", \"E\" se vogliamo allineare le cose a sx dx ecc --> dabilanciare con padx\u001b[0m\u001b[0;34m\u001b[0m\u001b[0;34m\u001b[0m\u001b[0m\n",
      "\u001b[0;31mNameError\u001b[0m: name 'PushButton' is not defined"
     ]
    }
   ],
   "source": [
    "#aggiungiamo un secondo widget tipo un bottone e lo posizioniamo nella nostra window \n",
    "first_button1 = (text= \"Start Acquisition\", command = start_acquisition, bd= 0)\n",
    "first_button1.grid(row = 20, column =0, padx = 20, sticky = \"W\") #per andare a specificare la sua posizione nel widget genitore \n",
    "#padx è la spaziatura tra cose stampate lungo x\n",
    "#sticky = \"W\", \"S\", \"N\", \"E\" se vogliamo allineare le cose a sx dx ecc --> dabilanciare con padx\n",
    "\n",
    "\n",
    "second_button2 = tk.Button( text = 'Stop Acquisition', command = stop_acquisition, bd=0)\n",
    "second_button2.grid(row = 21, column = 0, padx = 20, pady = 5, sticky= \"NW\")\n",
    "\n"
   ]
  },
  {
   "cell_type": "code",
   "execution_count": null,
   "id": "bd913504",
   "metadata": {
    "pycharm": {
     "name": "#%%\n"
    }
   },
   "outputs": [],
   "source": [
    "\n",
    "window.mainloop() #per far partire l'immagine "
   ]
  },
  {
   "cell_type": "code",
   "execution_count": null,
   "id": "2fff4f7c",
   "metadata": {
    "pycharm": {
     "name": "#%%\n"
    }
   },
   "outputs": [],
   "source": []
  },
  {
   "cell_type": "code",
   "execution_count": null,
   "id": "b065f6a1",
   "metadata": {
    "pycharm": {
     "name": "#%%\n"
    }
   },
   "outputs": [],
   "source": []
  },
  {
   "cell_type": "code",
   "execution_count": null,
   "id": "094ad9fb",
   "metadata": {
    "pycharm": {
     "name": "#%%\n"
    }
   },
   "outputs": [],
   "source": []
  }
 ],
 "metadata": {
  "kernelspec": {
   "display_name": "Python 3 (ipykernel)",
   "language": "python",
   "name": "python3"
  },
  "language_info": {
   "codemirror_mode": {
    "name": "ipython",
    "version": 3
   },
   "file_extension": ".py",
   "mimetype": "text/x-python",
   "name": "python",
   "nbconvert_exporter": "python",
   "pygments_lexer": "ipython3",
   "version": "3.9.7"
  }
 },
 "nbformat": 4,
 "nbformat_minor": 5
}
