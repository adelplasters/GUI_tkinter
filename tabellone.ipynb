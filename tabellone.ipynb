{
 "cells": [
  {
   "cell_type": "code",
   "execution_count": 1,
   "id": "79789af2",
   "metadata": {},
   "outputs": [],
   "source": [
    "import tkinter as tk\n",
    "#from PIL import Image, ImageTk\n",
    "import time\n",
    "\n"
   ]
  },
  {
   "cell_type": "code",
   "execution_count": 2,
   "id": "dffbf207",
   "metadata": {},
   "outputs": [],
   "source": [
    "window = tk.Tk() #per creare una finestra che contenga tutti i nostri altri elementi, è un widget principale \n",
    "window.geometry(\"600x600\") #larghezza per altezza \n",
    "window.title(\"Section\")\n",
    "window.resizable(False, False) #perchè non possa esserne modificata la dimensione una volta aperto\n",
    "window.configure(background = \"#666699\")"
   ]
  },
  {
   "cell_type": "code",
   "execution_count": null,
   "id": "02aa5397",
   "metadata": {},
   "outputs": [],
   "source": [
    "signal_case1 = tk.Canvas(window, bg = \"#666699\", height = 230, width = 186, bd = 0)\n",
    "signal_case1.grid(row = 42, columns = 7, sticky = \"W\", padx = 16)\n",
    "battuta = signal_case1.create_text(93,32, text = \"BATTUTA\", fill = \"#660033\", font = ('Orator Std', 30, 'bold'))\n",
    "\n",
    "\n",
    "punteggio_b = signal_case1.create_text(93, 150, text = \"0\", fill = \"#ffccff\", font = ('Helvetica', 90, 'bold'))\n",
    "\n",
    "signal_case2 = tk.Canvas(window, bd = 0, bg = \"#666699\", height = 230, width = 186)\n",
    "signal_case2.grid(row = 42, columns = 8, sticky = \"W\", padx = 202)\n",
    "dritto = signal_case2.create_text(93,32, text = \"DRITTO\", fill = \"#660033\", font = ('Orator Std', 30, 'bold'))\n",
    "\n",
    "stringa_d = f'{d}'\n",
    "punteggio_d = signal_case2.create_text(93, 150, text = stringa_d, fill = \"#ffccff\", font = ('Helvetica', 90, 'bold'))\n",
    "\n",
    "signal_case3 = tk.Canvas(window, bd = 0, bg = \"#666699\", height = 230, width = 186)\n",
    "signal_case3.grid(row = 42, columns = 9, sticky = \"W\", padx = 388)\n",
    "rovescio = signal_case3.create_text(93,32, text = \"ROVESCIO\", fill = \"#660033\", font = ('Orator Std', 30, 'bold'))\n",
    "\n",
    "stringa_r = f'{r}'\n",
    "punteggio_r = signal_case3.create_text(93, 150, text = stringa_r, fill = \"#ffccff\", font = ('Helvetica', 90, 'bold'))\n",
    "\n",
    "\n",
    "\n"
   ]
  },
  {
   "cell_type": "code",
   "execution_count": 4,
   "id": "f94e382e",
   "metadata": {},
   "outputs": [],
   "source": [
    "window.mainloop() #per far partire l'immagine "
   ]
  }
 ],
 "metadata": {
  "kernelspec": {
   "display_name": "Python 3 (ipykernel)",
   "language": "python",
   "name": "python3"
  },
  "language_info": {
   "codemirror_mode": {
    "name": "ipython",
    "version": 3
   },
   "file_extension": ".py",
   "mimetype": "text/x-python",
   "name": "python",
   "nbconvert_exporter": "python",
   "pygments_lexer": "ipython3",
   "version": "3.9.7"
  }
 },
 "nbformat": 4,
 "nbformat_minor": 5
}
