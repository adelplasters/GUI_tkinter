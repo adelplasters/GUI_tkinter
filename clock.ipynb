{
 "cells": [
  {
   "cell_type": "code",
   "execution_count": 1,
   "id": "8c1342a7",
   "metadata": {},
   "outputs": [],
   "source": [
    "import tkinter as tk\n",
    "#from PIL import Image, ImageTk\n",
    "import time"
   ]
  },
  {
   "cell_type": "code",
   "execution_count": 2,
   "id": "b9f549d2",
   "metadata": {},
   "outputs": [],
   "source": [
    "running = False\n",
    "ora = 0\n",
    "minuto = 0\n",
    "secondo = 0\n"
   ]
  },
  {
   "cell_type": "code",
   "execution_count": 3,
   "id": "9d96570d",
   "metadata": {},
   "outputs": [],
   "source": [
    "def clock():   #funzione update \n",
    "   \n",
    "    global ora, minuto, secondo\n",
    "    \n",
    "      \n",
    "    secondo = secondo + 1\n",
    "    \n",
    "    if secondo == 60:\n",
    "            minuto += 1 \n",
    "            secondo = 0 \n",
    "        \n",
    "    if minuto == 60:\n",
    "            ora += 1 \n",
    "            minuto = 0 \n",
    "        \n",
    "    ora_stringa = f'{ora}' if ora > 9 else f'0{ora}'\n",
    "     \n",
    "    minuto_stringa = f'{minuto}' if minuto > 9 else f'0{minuto}'\n",
    "    secondo_stringa = f'{secondo}' if secondo > 9 else f'0{secondo}'\n",
    "    \n",
    "    cronometro.config(text = ora_stringa + \":\" + minuto_stringa + \":\" + secondo_stringa)\n",
    "    global update_time\n",
    "    update_time = cronometro.after(100, clock)\n",
    "         "
   ]
  },
  {
   "cell_type": "code",
   "execution_count": 4,
   "id": "0cc77865",
   "metadata": {},
   "outputs": [],
   "source": [
    "def start():\n",
    "    \n",
    "    global running\n",
    "    if not running:\n",
    "        clock()\n",
    "        running = True \n",
    "\n",
    "\n",
    "        global flagb \n",
    "        flagb = True "
   ]
  },
  {
   "cell_type": "code",
   "execution_count": 5,
   "id": "0e2fde1d",
   "metadata": {},
   "outputs": [],
   "source": [
    "def pause():\n",
    "    global running\n",
    "    if running:\n",
    "        cronometro.after_cancel(update_time)\n",
    "        running = False"
   ]
  },
  {
   "cell_type": "code",
   "execution_count": 6,
   "id": "7b4c35e4",
   "metadata": {},
   "outputs": [],
   "source": [
    "def reset():\n",
    "    global running \n",
    "    if running:\n",
    "        \n",
    "        cronometro.after_cancel(update_time)\n",
    "        running = False \n",
    "        \n",
    "    global ora, minuto, secondo \n",
    "    ora, minuto, secondo = 0, 0, 0\n",
    "    cronometro.config(text = \"00:00:00\")"
   ]
  },
  {
   "cell_type": "code",
   "execution_count": 7,
   "id": "0b471125",
   "metadata": {},
   "outputs": [],
   "source": [
    "window = tk.Tk() #per creare una finestra che contenga tutti i nostri altri elementi, è un widget principale \n",
    "window.geometry(\"600x600\") #larghezza per altezza \n",
    "window.title(\"Section\")\n",
    "window.resizable(False, False) #perchè non possa esserne modificata la dimensione una volta aperto\n",
    "window.configure(background = \"#666699\")\n",
    "\n",
    "start = tk.Button(text = \"START\", command = start)\n",
    "start.grid(row = 21, columns = 400)\n",
    "\n",
    "pause = tk.Button(text = \"PAUSE\", command = pause)\n",
    "pause.grid(row = 22, columns = 401)\n",
    "\n",
    "reset = tk.Button(text = \"RESET\", command = reset)\n",
    "reset.grid(row = 23, columns = 402)\n",
    "\n",
    "cronometro = tk.Label(window, text = \"00:00:00\", bg = \"black\", fg = \"#ffccff\", font = (\"Helvetica\", 30, 'bold'))\n",
    "cronometro.grid(row = 20, columns = 400, padx = 460, sticky = \"NE\", pady = 20)\n",
    "\n",
    "\n",
    "window.mainloop() #per far partire l'immagine "
   ]
  },
  {
   "cell_type": "code",
   "execution_count": null,
   "id": "d74929d5",
   "metadata": {},
   "outputs": [],
   "source": []
  }
 ],
 "metadata": {
  "kernelspec": {
   "display_name": "Python 3 (ipykernel)",
   "language": "python",
   "name": "python3"
  },
  "language_info": {
   "codemirror_mode": {
    "name": "ipython",
    "version": 3
   },
   "file_extension": ".py",
   "mimetype": "text/x-python",
   "name": "python",
   "nbconvert_exporter": "python",
   "pygments_lexer": "ipython3",
   "version": "3.9.7"
  }
 },
 "nbformat": 4,
 "nbformat_minor": 5
}
